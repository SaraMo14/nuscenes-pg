{
 "cells": [
  {
   "cell_type": "code",
   "execution_count": 3,
   "metadata": {},
   "outputs": [],
   "source": [
    "from pgeon.policy_graph import PolicyGraph\n",
    "from pgeon.intention_introspector import IntentionIntrospector\n",
    "from pgeon.desire import Desire\n",
    "from pgeon.discretizer import Predicate"
   ]
  },
  {
   "cell_type": "code",
   "execution_count": 2,
   "metadata": {},
   "outputs": [
    {
     "ename": "NameError",
     "evalue": "name 'PolicyGraph' is not defined",
     "output_type": "error",
     "traceback": [
      "\u001b[0;31m---------------------------------------------------------------------------\u001b[0m",
      "\u001b[0;31mNameError\u001b[0m                                 Traceback (most recent call last)",
      "Cell \u001b[0;32mIn[2], line 1\u001b[0m\n\u001b[0;32m----> 1\u001b[0m pg_pickle \u001b[38;5;241m=\u001b[39m \u001b[43mPolicyGraph\u001b[49m\u001b[38;5;241m.\u001b[39mfrom_nodes_and_edges(\u001b[38;5;124m'\u001b[39m\u001b[38;5;124m'\u001b[39m)\n\u001b[1;32m      3\u001b[0m \u001b[38;5;28mprint\u001b[39m(\u001b[38;5;124mf\u001b[39m\u001b[38;5;124m'\u001b[39m\u001b[38;5;124mNumber of nodes:             \u001b[39m\u001b[38;5;132;01m{\u001b[39;00m\u001b[38;5;28mlen\u001b[39m(pg_pickle\u001b[38;5;241m.\u001b[39mnodes)\u001b[38;5;132;01m}\u001b[39;00m\u001b[38;5;124m'\u001b[39m)\n\u001b[1;32m      4\u001b[0m \u001b[38;5;28mprint\u001b[39m(\u001b[38;5;124mf\u001b[39m\u001b[38;5;124m'\u001b[39m\u001b[38;5;124mNumber of edges:             \u001b[39m\u001b[38;5;132;01m{\u001b[39;00m\u001b[38;5;28mlen\u001b[39m(pg_pickle\u001b[38;5;241m.\u001b[39medges)\u001b[38;5;132;01m}\u001b[39;00m\u001b[38;5;124m'\u001b[39m)\n",
      "\u001b[0;31mNameError\u001b[0m: name 'PolicyGraph' is not defined"
     ]
    }
   ],
   "source": [
    "\n",
    "\n",
    "pg_pickle = PolicyGraph.from_nodes_and_edges('')\n",
    "\n",
    "print(f'Number of nodes:             {len(pg_pickle.nodes)}')\n",
    "print(f'Number of edges:             {len(pg_pickle.edges)}')\n",
    "print(f'Num. of stored trajectories: {len(pg_pickle._trajectories_of_last_fit)}')\n",
    "\n",
    "\n",
    "\n",
    "ii = IntentionIntrospector({Desire(\"keep_straight\", 0, {Predicate(Position, [Position.MIDDLE])})})\n",
    "    # %%\n",
    "print(ii.find_intentions(pg_pickle, 0.5))"
   ]
  }
 ],
 "metadata": {
  "kernelspec": {
   "display_name": "Python 3",
   "language": "python",
   "name": "python3"
  },
  "language_info": {
   "codemirror_mode": {
    "name": "ipython",
    "version": 3
   },
   "file_extension": ".py",
   "mimetype": "text/x-python",
   "name": "python",
   "nbconvert_exporter": "python",
   "pygments_lexer": "ipython3",
   "version": "3.8.10"
  }
 },
 "nbformat": 4,
 "nbformat_minor": 2
}
