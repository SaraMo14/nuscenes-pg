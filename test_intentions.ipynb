{
 "cells": [
  {
   "cell_type": "code",
   "execution_count": null,
   "metadata": {},
   "outputs": [],
   "source": [
    "from example.discretizer.utils import IsTrafficLightNearby, IsStopSignNearby, Velocity, IsZebraNearby, LanePosition, FrontLeftObjects, FrontRightObjects, PedestrianNearby, BlockProgress\n",
    "from pgeon.intention_introspector import IntentionIntrospector\n",
    "from pgeon.desire import Desire\n",
    "from pgeon.discretizer import Predicate\n",
    "from example.discretizer.discretizer_d0 import AVDiscretizer\n",
    "from example.discretizer.discretizer_d1 import AVDiscretizerD1\n",
    "import pgeon.policy_graph as PG\n",
    "from example.environment import SelfDrivingEnvironment\n",
    "import numpy as np\n",
    "import matplotlib.pyplot as plt\n",
    "from typing import Set, Dict, Tuple\n"
   ]
  },
  {
   "cell_type": "markdown",
   "metadata": {},
   "source": [
    "## Common initialization (valid for each discretiser)"
   ]
  },
  {
   "cell_type": "code",
   "execution_count": null,
   "metadata": {},
   "outputs": [],
   "source": [
    "environment = SelfDrivingEnvironment(city='all')\n",
    "discretizer_configs = {\n",
    "    'a': {'obj_discretizer': 'binary', 'vel_discretizer': 'binary' },\n",
    "    'b': {'obj_discretizer': 'multiple', 'vel_discretizer': 'binary'},\n",
    "    'c': {'obj_discretizer': 'multiple', 'vel_discretizer': 'multiple'}\n",
    "    }\n",
    "\n",
    "default_config = {'obj_discretizer': 'multiple', 'vel_discretizer': 'multiple'}\n",
    "commitment_threshold = 0.5"
   ]
  },
  {
   "cell_type": "code",
   "execution_count": null,
   "metadata": {},
   "outputs": [],
   "source": [
    "def roc_curve(discretisers_info: Dict[str, Tuple[PG.PolicyGraph, Set[Desire]]]):\n",
    "    \n",
    "    plt.figure(figsize=(10, 6))\n",
    "\n",
    "    thresholds = np.arange(0, 1, 0.1)\n",
    "\n",
    "    for discretizer_id, (pg, desires) in discretisers_info.items():\n",
    "        intention_probabilities = []\n",
    "        expected_probabilities = []\n",
    "\n",
    "        for threshold in thresholds:\n",
    "            print(threshold)\n",
    "            ii = IntentionIntrospector(desires, pg)\n",
    "\n",
    "            intention_prob, expected_prob=ii.get_intention_metrics(commitment_threshold=threshold,desire=any)\n",
    "            intention_probabilities.append(intention_prob)\n",
    "            expected_probabilities.append(expected_prob)\n",
    "\n",
    "        plt.plot(intention_probabilities, expected_probabilities, label=f'Discretizer D{discretizer_id}')\n",
    "\n",
    "        \n",
    "    plt.xlabel('Intention Probability for ANY desire')\n",
    "    plt.ylabel('Expected Intention Probability')\n",
    "    plt.title('Intention Probability vs Expected Intention Probability')\n",
    "    plt.legend()\n",
    "    plt.grid(True)\n",
    "    plt.show()\n",
    "    plt.savefig(f'roc.png', dpi=100)"
   ]
  },
  {
   "cell_type": "code",
   "execution_count": null,
   "metadata": {},
   "outputs": [],
   "source": [
    "def show_metrics(metrics_data, discretizer_id, type='Desire'):\n",
    "    \n",
    "    \"\"\"\n",
    "    Function to show bar plots with metrics for each desire. The metrics can be \n",
    "    desire or intention metrics, based on the value of the parameter 'type' (Desire or Intention).\n",
    "    \"\"\"\n",
    "    desires = list(metrics_data.keys())\n",
    "\n",
    "    fig, ax = plt.subplots(figsize=(65, 15))\n",
    "\n",
    "    labels = []\n",
    "    val1 = []\n",
    "    val2 = []\n",
    "\n",
    "    for desire in desires:\n",
    "        if desire == 'any':\n",
    "            val1.append(metrics_data[desire][0])\n",
    "            val2.append(metrics_data[desire][1])\n",
    "        else:\n",
    "            val1.append(metrics_data[desire][0])\n",
    "            val2.append(metrics_data[desire][1])\n",
    "        labels.append(f\"{desire}\")\n",
    "\n",
    "    x = np.arange(len(desires))\n",
    "    width = 0.35\n",
    "\n",
    "    rects1 = ax.bar(x - width/2, val1, width, label=f'{type} Probability')\n",
    "    metric_label = 'Expected Action Prob.' if type == 'Desire' else 'Expected Intention Prob.'\n",
    "    rects2 = ax.bar(x + width/2, val2, width, label=metric_label)\n",
    "\n",
    "    ax.set_xlabel(f'Desires', fontsize=45)\n",
    "    ax.set_ylabel(f'{type}s Metrics', fontsize=45)\n",
    "    ax.set_title(f'Discretizer D{discretizer_id}', fontsize=50)\n",
    "    ax.set_xticks(x)\n",
    "    ax.set_xticklabels(labels, fontsize=40,rotation = 30)\n",
    "    \n",
    "    plt.yticks(fontsize=30)\n",
    "\n",
    "        \n",
    "    ax.legend( fontsize=35, loc='upper left' )\n",
    "    for rect in rects1:\n",
    "        height = rect.get_height()\n",
    "        ax.text(rect.get_x() + rect.get_width() / 2, height, f'{height:.3f}', ha='center', va='bottom', fontsize=35)\n",
    "\n",
    "    for rect in rects2:\n",
    "        height = rect.get_height()\n",
    "        ax.text(rect.get_x() + rect.get_width() / 2, height, f'{height:.3f}', ha='center', va='bottom', fontsize=35)\n",
    "\n",
    "    #plt.show()  \n",
    "    plt.savefig(f'{type}_{discretizer_id}.png', bbox_inches = 'tight')"
   ]
  },
  {
   "cell_type": "markdown",
   "metadata": {},
   "source": [
    "Desires valid for all discretisers"
   ]
  },
  {
   "cell_type": "code",
   "execution_count": null,
   "metadata": {},
   "outputs": [],
   "source": [
    "any = Desire(\"any\", None, set())\n",
    "stop_traffic_light = Desire(\"stop_traffic_light\", [1], {Predicate(IsTrafficLightNearby, [IsTrafficLightNearby.YES])}) #NOTE: traffic light color can be also green or yellow\n",
    "stop_stop_sign = Desire(\"stop_stop_sign\", [1], {Predicate(IsStopSignNearby, [IsStopSignNearby.YES])})\n",
    "stop_zebra = Desire(\"stop_zebra\", [1], {Predicate(IsZebraNearby, [IsZebraNearby.YES])})\n",
    "lane_change = Desire(\"lane_change\", [7,8, 2, 3 ], {Predicate(LanePosition, [LanePosition.CENTER]) }) #GAS_TURN_LEFT\n",
    "turn_at_intersection = Desire(\"turn_at_intersection\", [7,8, 2, 3 ], {Predicate(BlockProgress, [BlockProgress.INTERSECTION])})\n"
   ]
  },
  {
   "cell_type": "code",
   "execution_count": null,
   "metadata": {},
   "outputs": [],
   "source": [
    "desire_test = Desire('test', [5], {IsTrafficLightNearby: [IsTrafficLightNearby.YES], Velocity: [Velocity.MEDIUM, Velocity.HIGH]})\n",
    "#desire_test2 = Desire('test2', [1], {IsZebraNearby: [IsZebraNearby.NO, IsZebraNearby.YES ]})"
   ]
  },
  {
   "cell_type": "code",
   "execution_count": null,
   "metadata": {},
   "outputs": [],
   "source": [
    "def check_state_condition(node, atom, condition_values):\n",
    "    for elem in node:\n",
    "        if elem.predicate == atom and elem.value[0] in condition_values:\n",
    "            return True\n",
    "    return False\n",
    "\n",
    "def check_desire(node: Set[Predicate], desire_clause: Dict[str, Set[str]]) -> bool:\n",
    "        # Returns None if desire is not satisfied. Else, returns probability of fulfilling desire\n",
    "        #   ie: executing the action when in Node\n",
    "\n",
    "        desire_clause_satisfied = True\n",
    "        for atom, condition_values in desire_clause.items():\n",
    "            desire_clause_satisfied = desire_clause_satisfied and check_state_condition(node, atom, condition_values)\n",
    "            if not desire_clause_satisfied:\n",
    "                return False\n",
    "        return True"
   ]
  },
  {
   "cell_type": "code",
   "execution_count": null,
   "metadata": {},
   "outputs": [],
   "source": [
    "discretizer_id = '0c'\n",
    "discretizer = AVDiscretizer(\n",
    "            environment,\n",
    "            vel_discretization='multiple',\n",
    "            obj_discretization='multiple',\n",
    "            id=discretizer_id\n",
    "        ) \n",
    "nodes_path = f'example/dataset/data/policy_graphs/PG_trainval_Call_D{discretizer_id}_Wall_Tall_nodes.csv'\n",
    "edges_path = f'example/dataset/data/policy_graphs/PG_trainval_Call_D{discretizer_id}_Wall_Tall_edges.csv'\n",
    "print(f'DISCRETIZER {discretizer_id} ')\n",
    "pg = PG.PolicyGraph.from_nodes_and_edges(nodes_path, edges_path, environment, discretizer)\n",
    " "
   ]
  },
  {
   "cell_type": "code",
   "execution_count": null,
   "metadata": {},
   "outputs": [],
   "source": [
    "import time\n",
    "start = time.time()\n",
    "for node in pg:\n",
    "    print(node)\n",
    "    if check_desire(node, desire_test.clause):\n",
    "        print(True)\n",
    "    #print(check_desire(node, desire_test2.clause))\n",
    "    print()\n",
    "print(f'tot time: {time.time()-start}')"
   ]
  },
  {
   "cell_type": "markdown",
   "metadata": {},
   "source": [
    "## Discretisers 0a, 0b, 0c"
   ]
  },
  {
   "cell_type": "markdown",
   "metadata": {},
   "source": [
    "#### Compute Desires and Intention Metrics\n"
   ]
  },
  {
   "cell_type": "code",
   "execution_count": null,
   "metadata": {},
   "outputs": [],
   "source": [
    "import networkx as nx\n",
    "intentions_data = {}\n",
    "desires_data = {}\n",
    "for discretizer_id in ['0a','0b' ,'0c', '1a','1b','1c']: #\n",
    "    config = default_config\n",
    "    for key in discretizer_configs:\n",
    "        if key in discretizer_id:\n",
    "            config = discretizer_configs[key]\n",
    "            break\n",
    "\n",
    "\n",
    "    DiscretizerClass = AVDiscretizer if '0' in discretizer_id else AVDiscretizerD1\n",
    "\n",
    "    discretizer = DiscretizerClass(\n",
    "            environment,\n",
    "            vel_discretization=config['vel_discretizer'],\n",
    "            obj_discretization=config['obj_discretizer'],\n",
    "            id=discretizer_id\n",
    "        ) \n",
    "    nodes_path = f'example/dataset/data/policy_graphs/PG_trainval_Call_D{discretizer_id}_Wall_Tall_nodes.csv'\n",
    "    edges_path = f'example/dataset/data/policy_graphs/PG_trainval_Call_D{discretizer_id}_Wall_Tall_edges.csv'\n",
    "    print(f'DISCRETIZER {discretizer_id} ')\n",
    "    pg = PG.PolicyGraph.from_nodes_and_edges(nodes_path, edges_path, environment, discretizer)\n",
    "    \n",
    "    weakly_connected_components = list(nx.weakly_connected_components(pg))\n",
    "    for component in weakly_connected_components:\n",
    "        if len(component) == 1:\n",
    "            pg.remove_node(next(iter(component))) \n",
    "\n",
    "    \n",
    "    desires = [turn_at_intersection, stop_stop_sign, stop_traffic_light, stop_zebra, lane_change]\n",
    "\n",
    "    if 'a' not in discretizer_id:\n",
    "        desires.append(Desire(\"few_obstacle_avoid_l\", [3, 7], {Predicate(FrontLeftObjects, [FrontLeftObjects(1, discretization=config['obj_discretizer'])]) }) )\n",
    "        desires.append(Desire(\"few_obstacle_avoid_r\", [2, 8], {Predicate(FrontRightObjects, [FrontRightObjects(1,discretization=config['obj_discretizer'])])}) )\n",
    "        desires.append(Desire(\"many_obstacle_avoid_l\", [3, 7], {Predicate(FrontLeftObjects, [FrontLeftObjects(4, discretization=config['obj_discretizer'])]) }) )\n",
    "        desires.append(Desire(\"many_obstacle_avoid_r\", [2, 8], {Predicate(FrontRightObjects, [FrontRightObjects(4,discretization=config['obj_discretizer'])])})  )\n",
    "        #desires.append(Desire(\"overtake\", [1], {Predicate(LanePosition, [LanePosition.CENTER]), Predicate(FrontRightObjects(1)) }))\n",
    "    else:\n",
    "        desires.append(Desire(\"obstacle_avoid_f\", [3, 7], {Predicate(FrontLeftObjects, [FrontLeftObjects(1, discretization=config['obj_discretizer'])]) }))\n",
    "        desires.append(Desire(\"obstacle_avoid_r\", [2, 8], {Predicate(FrontRightObjects, [FrontRightObjects(1,discretization=config['obj_discretizer'])])}))\n",
    "\n",
    "        #desires.append(Desire(\"overtake\", [1], {Predicate(LanePosition, [LanePosition.CENTER]) }))\n",
    "    ii = IntentionIntrospector(desires, pg)\n",
    "\n",
    "    desires_data[discretizer_id] = ii.find_desires() \n",
    "    print(desires_data[discretizer_id])\n",
    "    intentions_data[discretizer_id] = ii.find_intentions( commitment_threshold) #{desire.name: [self.get_intention_metrics(commitment_threshold, desire)] for desire in self.desires}\n",
    "    intentions_data[discretizer_id]['any']=ii.get_intention_metrics(commitment_threshold,any)\n",
    "    print(intentions_data[discretizer_id])\n",
    "    print()"
   ]
  },
  {
   "cell_type": "markdown",
   "metadata": {},
   "source": [
    "Questions"
   ]
  },
  {
   "cell_type": "code",
   "execution_count": null,
   "metadata": {},
   "outputs": [],
   "source": [
    "state = pg.discretizer.str_to_state(\"(LanePosition(RIGHT), NextIntersection(NONE), Velocity(MOVING), Rotation(FORWARD), IsStopSignNearby(NO), IsZebraNearby(NO), IsTrafficLightNearby(NO), FrontRightObjects(YES), FrontLeftObjects(YES))\")"
   ]
  },
  {
   "cell_type": "code",
   "execution_count": null,
   "metadata": {},
   "outputs": [],
   "source": [
    "ii.how(pg, many_obstacle_avoid_l, state)"
   ]
  },
  {
   "cell_type": "markdown",
   "metadata": {},
   "source": [
    "### Bar Plot"
   ]
  },
  {
   "cell_type": "markdown",
   "metadata": {},
   "source": [
    "#### Desires"
   ]
  },
  {
   "cell_type": "code",
   "execution_count": null,
   "metadata": {},
   "outputs": [],
   "source": [
    "for discretizer in desires_data.keys():\n",
    "    show_metrics(desires_data[discretizer], discretizer, type = 'Desire')\n"
   ]
  },
  {
   "cell_type": "markdown",
   "metadata": {},
   "source": [
    "#### Intentions"
   ]
  },
  {
   "cell_type": "code",
   "execution_count": null,
   "metadata": {},
   "outputs": [],
   "source": [
    "for discretizer in intentions_data.keys():\n",
    "    show_metrics(intentions_data[discretizer], discretizer, type = 'Intention')"
   ]
  },
  {
   "cell_type": "markdown",
   "metadata": {},
   "source": [
    "## ROC Curve\n"
   ]
  },
  {
   "cell_type": "markdown",
   "metadata": {},
   "source": [
    "Choose the discretiser with higher AIC, that is, the discretiser where the interpretability vs reliability trade-off is better"
   ]
  },
  {
   "cell_type": "markdown",
   "metadata": {},
   "source": [
    "- If there is no commitment threshold in which the two metrics are decently high, it becomes apparent that the desires do not capture the agent’s behaviour. This can be either because the agent did not train correctly (making the hypothesised desires something it cannot reach) or because the agent is targeting a different set of desires. Our case is the latter. \n",
    "\n",
    "- The probability of manifesting intentions is low. the behaviour is not interpretable with these desires, and new ones should be considered.\n",
    "\n",
    "\n",
    "After seeing seeing this, we added new desires related to OBSTACLE AVOIDANCE, which improved the AUC  for discretisers D0b and D0c."
   ]
  },
  {
   "cell_type": "code",
   "execution_count": null,
   "metadata": {},
   "outputs": [],
   "source": [
    "discretizers_info = {}\n",
    "for discretizer_id in ['0a','0b','0c','1a','1b','1c']:\n",
    "    config = default_config\n",
    "    for key in discretizer_configs:\n",
    "        if key in discretizer_id:\n",
    "            config = discretizer_configs[key]\n",
    "            break\n",
    "\n",
    "    DiscretizerClass = AVDiscretizer if '0' in discretizer_id else AVDiscretizerD1\n",
    "    discretizer = DiscretizerClass(\n",
    "            environment,\n",
    "            vel_discretization=config['vel_discretizer'],\n",
    "            obj_discretization=config['obj_discretizer'],\n",
    "            id=discretizer_id\n",
    "            ) \n",
    "    nodes_path = f'example/dataset/data/policy_graphs/PG_trainval_Call_D{discretizer_id}_Wall_Tall_nodes.csv'\n",
    "    edges_path = f'example/dataset/data/policy_graphs/PG_trainval_Call_D{discretizer_id}_Wall_Tall_edges.csv'\n",
    "    pg = PG.PolicyGraph.from_nodes_and_edges(nodes_path, edges_path, environment, discretizer)\n",
    "    \n",
    "    \n",
    "    obstacle_avoidance_l = Desire(\"few_left_obstacle_avoid\", [3, 7], {Predicate(FrontLeftObjects, [FrontLeftObjects(1, discretization=config['obj_discretizer'])]) })\n",
    "    obstacle_avoidance_r = Desire(\"rfew_ight_obstacle_avoid\", [2, 8], {Predicate(FrontRightObjects, [FrontRightObjects(1,discretization=config['obj_discretizer'])])})\n",
    "    desires = [turn_at_intersection, stop_stop_sign, stop_traffic_light, stop_zebra, lane_change, obstacle_avoidance_l, obstacle_avoidance_r]\n",
    "\n",
    "    if 'a' not in discretizer_id:\n",
    "        desires.append(Desire(\"many_left_obstacle_avoid\", [3, 7], {Predicate(FrontLeftObjects, [FrontLeftObjects(4, discretization=config['obj_discretizer'])]) }) )\n",
    "        desires.append(Desire(\"many_right_obstacle_avoid\", [2, 8], {Predicate(FrontRightObjects, [FrontRightObjects(4,discretization=config['obj_discretizer'])])})  )\n",
    "\n",
    "    #if '1' in discretizer_id:\n",
    "        #desires.append(turn_at_intersection) \n",
    "    discretizers_info[discretizer_id] = (pg, desires)\n"
   ]
  },
  {
   "cell_type": "code",
   "execution_count": null,
   "metadata": {},
   "outputs": [],
   "source": [
    "roc_curve(discretizers_info)"
   ]
  }
 ],
 "metadata": {
  "kernelspec": {
   "display_name": "Python 3",
   "language": "python",
   "name": "python3"
  },
  "language_info": {
   "codemirror_mode": {
    "name": "ipython",
    "version": 3
   },
   "file_extension": ".py",
   "mimetype": "text/x-python",
   "name": "python",
   "nbconvert_exporter": "python",
   "pygments_lexer": "ipython3",
   "version": "3.8.10"
  }
 },
 "nbformat": 4,
 "nbformat_minor": 2
}
