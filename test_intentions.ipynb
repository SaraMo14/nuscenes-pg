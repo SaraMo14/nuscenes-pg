{
 "cells": [
  {
   "cell_type": "code",
   "execution_count": 52,
   "metadata": {},
   "outputs": [],
   "source": [
    "from example.discretizer.utils import IsTrafficLightNearby, IsStopSignNearby, IsZebraNearby, LanePosition, FrontLeftObjects, FrontRightObjects\n",
    "from pgeon.intention_introspector import IntentionIntrospector\n",
    "from pgeon.desire import Desire\n",
    "from pgeon.discretizer import Predicate\n",
    "from example.discretizer.discretizer_d0 import AVDiscretizer\n",
    "from example.discretizer.discretizer_d1 import AVDiscretizerD1\n",
    "import pgeon.policy_graph as PG\n",
    "from example.environment import SelfDrivingEnvironment"
   ]
  },
  {
   "cell_type": "code",
   "execution_count": 11,
   "metadata": {},
   "outputs": [
    {
     "name": "stdout",
     "output_type": "stream",
     "text": [
      "Number of nodes:             449\n",
      "Number of edges:             2931\n"
     ]
    }
   ],
   "source": [
    "\n",
    "environment = SelfDrivingEnvironment(city='all')\n",
    "discretizer = AVDiscretizer(environment, obj_discretization='binary')\n",
    "nodes_path = f'example/dataset/data/policy_graphs/PG_trainval_Call_D0a_Wall_Tall_nodes.csv'\n",
    "edges_path = f'example/dataset/data/policy_graphs/PG_trainval_Call_D0a_Wall_Tall_edges.csv'\n",
    "pg = PG.PolicyGraph.from_nodes_and_edges(nodes_path, edges_path, environment, discretizer)\n",
    "\n",
    "ii = IntentionIntrospector({})\n",
    "\n",
    "    # %%\n",
    "#iiap = ii.find_intentions(pg, 0.5)\n",
    "#print(iiap.intention)\n"
   ]
  },
  {
   "cell_type": "code",
   "execution_count": 12,
   "metadata": {},
   "outputs": [
    {
     "name": "stdout",
     "output_type": "stream",
     "text": [
      "How likely are you to find yourself in a state where you can fulfill your desire stop_traffic_light by performing the action 1?\n",
      "Probability: 0.22083265659682766\n",
      "How likely are you to perform your desirable action 1 when you are in the state region {IsTrafficLightNearby(YES)}?\n",
      "Probability: 0.4989341484853398\n"
     ]
    }
   ],
   "source": [
    "#NOTE: traffic light color can be also green or yellow\n",
    "stop_traffic_light = Desire(\"stop_traffic_light\", 1, {Predicate(IsTrafficLightNearby, [IsTrafficLightNearby.YES])})\n",
    "ii.question4(pg, stop_traffic_light)\n",
    "ii.question5(pg, stop_traffic_light,1)\n"
   ]
  },
  {
   "cell_type": "code",
   "execution_count": 14,
   "metadata": {},
   "outputs": [
    {
     "name": "stdout",
     "output_type": "stream",
     "text": [
      "How likely are you to find yourself in a state where you can fulfill your desire stop_stop_sign by performing the action 1?\n",
      "Probability: 0.0734123761572195\n",
      "How likely are you to perform your desirable action 1 when you are in the state region {IsStopSignNearby(YES)}?\n",
      "Probability: 0.15221294371929214\n"
     ]
    }
   ],
   "source": [
    "stop_stop_sign = Desire(\"stop_stop_sign\", 1, {Predicate(IsStopSignNearby, [IsStopSignNearby.YES])})\n",
    "ii.question4(pg, stop_stop_sign)\n",
    "ii.question5(pg, stop_stop_sign,1)"
   ]
  },
  {
   "cell_type": "code",
   "execution_count": 15,
   "metadata": {},
   "outputs": [
    {
     "name": "stdout",
     "output_type": "stream",
     "text": [
      "How likely are you to find yourself in a state where you can fulfill your desire stop_zebra by performing the action 1?\n",
      "Probability: 0.34199556060852143\n",
      "How likely are you to perform your desirable action 1 when you are in the state region {IsZebraNearby(YES)}?\n",
      "Probability: 0.3537164369487304\n"
     ]
    }
   ],
   "source": [
    "stop_zebra = Desire(\"stop_zebra\", 1, {Predicate(IsZebraNearby, [IsZebraNearby.YES])})\n",
    "\n",
    "ii.question4(pg, stop_zebra)\n",
    "ii.question5(pg, stop_zebra,1)"
   ]
  },
  {
   "cell_type": "code",
   "execution_count": 35,
   "metadata": {},
   "outputs": [
    {
     "name": "stdout",
     "output_type": "stream",
     "text": [
      "How likely are you to find yourself in a state where you can fulfill your desire obstacle_avoidance_left by performing the action 7?\n",
      "Probability: 0.77326620107195\n",
      "How likely are you to perform your desirable action 7 when you are in the state region {FrontLeftObjects(YES)}?\n",
      "Probability: 0.042201305346308664\n",
      "How likely are you to find yourself in a state where you can fulfill your desire obstacle_avoidance_right by performing the action 8?\n",
      "Probability: 0.814411780629094\n",
      "How likely are you to perform your desirable action 8 when you are in the state region {FrontRightObjects(YES)}?\n",
      "Probability: 0.037883096824323156\n"
     ]
    }
   ],
   "source": [
    "obstacle_avoidance_l = Desire(\"obstacle_avoidance_left\", 7, {Predicate(FrontLeftObjects, [FrontLeftObjects(1, discretization=\"binary\")]) })\n",
    "obstacle_avoidance_r = Desire(\"obstacle_avoidance_right\", 8, {Predicate(FrontRightObjects, [FrontRightObjects(1,discretization=\"binary\")])})\n",
    "\n",
    "ii.question4(pg, obstacle_avoidance_l)\n",
    "ii.question5(pg, obstacle_avoidance_l, 7)\n",
    "ii.question4(pg, obstacle_avoidance_r)\n",
    "ii.question5(pg, obstacle_avoidance_r, 8)"
   ]
  },
  {
   "cell_type": "code",
   "execution_count": 51,
   "metadata": {},
   "outputs": [
    {
     "name": "stdout",
     "output_type": "stream",
     "text": [
      "How likely are you to find yourself in a state where you can fulfill your desire lane_change by performing the action 8?\n",
      "Probability: 0.06036489632396723\n",
      "How likely are you to perform your desirable action 8 when you are in the state region {LanePosition(CENTER)}?\n",
      "Probability: 0.08429495935110046\n"
     ]
    }
   ],
   "source": [
    "lane_change = Desire(\"lane_change\", 8, {Predicate(LanePosition, [LanePosition.CENTER]) })\n",
    "\n",
    "ii.question4(pg, lane_change)\n",
    "ii.question5(pg, lane_change, 8)\n"
   ]
  },
  {
   "cell_type": "code",
   "execution_count": 54,
   "metadata": {},
   "outputs": [
    {
     "name": "stdout",
     "output_type": "stream",
     "text": [
      "DISCRETIZER 0a \n",
      "How likely are you to find yourself in a state where you can fulfill your desire stop_traffic_light by performing the action 1?\n",
      "Probability: 0.22083265659682766\n",
      "How likely are you to perform your desirable action 1 when you are in the state region {IsTrafficLightNearby(YES)}?\n",
      "Probability: 0.4989341484853398\n",
      "How likely are you to find yourself in a state where you can fulfill your desire stop_stop_sign by performing the action 1?\n",
      "Probability: 0.0734123761572195\n",
      "How likely are you to perform your desirable action 1 when you are in the state region {IsStopSignNearby(YES)}?\n",
      "Probability: 0.15221294371929214\n",
      "How likely are you to find yourself in a state where you can fulfill your desire stop_zebra by performing the action 1?\n",
      "Probability: 0.34199556060852143\n",
      "How likely are you to perform your desirable action 1 when you are in the state region {IsZebraNearby(YES)}?\n",
      "Probability: 0.3537164369487304\n",
      "How likely are you to find yourself in a state where you can fulfill your desire lane_change by performing the action 8?\n",
      "Probability: 0.06036489632396723\n",
      "How likely are you to perform your desirable action 8 when you are in the state region {LanePosition(CENTER)}?\n",
      "Probability: 0.08429495935110046\n",
      "How likely are you to find yourself in a state where you can fulfill your desire lane_change by performing the action 2?\n",
      "Probability: 0.06036489632396723\n",
      "How likely are you to perform your desirable action 2 when you are in the state region {LanePosition(CENTER)}?\n",
      "Probability: 0.07761660669365646\n",
      "\n",
      "DISCRETIZER 0b \n",
      "How likely are you to find yourself in a state where you can fulfill your desire stop_traffic_light by performing the action 1?\n",
      "Probability: 0.2430211987646539\n",
      "How likely are you to perform your desirable action 1 when you are in the state region {IsTrafficLightNearby(YES)}?\n",
      "Probability: 0.5098844587104072\n",
      "How likely are you to find yourself in a state where you can fulfill your desire stop_stop_sign by performing the action 1?\n",
      "Probability: 0.06797397379388927\n",
      "How likely are you to perform your desirable action 1 when you are in the state region {IsStopSignNearby(YES)}?\n",
      "Probability: 0.14179766999767518\n",
      "How likely are you to find yourself in a state where you can fulfill your desire stop_zebra by performing the action 1?\n",
      "Probability: 0.3471560073161203\n",
      "How likely are you to perform your desirable action 1 when you are in the state region {IsZebraNearby(YES)}?\n",
      "Probability: 0.34749252418840687\n",
      "How likely are you to find yourself in a state where you can fulfill your desire lane_change by performing the action 8?\n",
      "Probability: 0.056639980810170694\n",
      "How likely are you to perform your desirable action 8 when you are in the state region {LanePosition(CENTER)}?\n",
      "Probability: 0.06597554033823423\n",
      "How likely are you to find yourself in a state where you can fulfill your desire lane_change by performing the action 2?\n",
      "Probability: 0.056639980810170694\n",
      "How likely are you to perform your desirable action 2 when you are in the state region {LanePosition(CENTER)}?\n",
      "Probability: 0.0759528663780091\n",
      "\n",
      "DISCRETIZER 0c \n",
      "How likely are you to find yourself in a state where you can fulfill your desire stop_traffic_light by performing the action 1?\n",
      "Probability: 0.24302119876465317\n",
      "How likely are you to perform your desirable action 1 when you are in the state region {IsTrafficLightNearby(YES)}?\n",
      "Probability: 0.5098876028065232\n",
      "How likely are you to find yourself in a state where you can fulfill your desire stop_stop_sign by performing the action 1?\n",
      "Probability: 0.06797397379388924\n",
      "How likely are you to perform your desirable action 1 when you are in the state region {IsStopSignNearby(YES)}?\n",
      "Probability: 0.14178188308822665\n",
      "How likely are you to find yourself in a state where you can fulfill your desire stop_zebra by performing the action 1?\n",
      "Probability: 0.34715600731611895\n",
      "How likely are you to perform your desirable action 1 when you are in the state region {IsZebraNearby(YES)}?\n",
      "Probability: 0.3474850200707031\n",
      "How likely are you to find yourself in a state where you can fulfill your desire lane_change by performing the action 8?\n",
      "Probability: 0.05663998081017076\n",
      "How likely are you to perform your desirable action 8 when you are in the state region {LanePosition(CENTER)}?\n",
      "Probability: 0.06578730662902157\n",
      "How likely are you to find yourself in a state where you can fulfill your desire lane_change by performing the action 2?\n",
      "Probability: 0.05663998081017076\n",
      "How likely are you to perform your desirable action 2 when you are in the state region {LanePosition(CENTER)}?\n",
      "Probability: 0.07602005076859471\n",
      "\n",
      "DISCRETIZER 1a \n",
      "How likely are you to find yourself in a state where you can fulfill your desire stop_traffic_light by performing the action 1?\n",
      "Probability: 0.24302119876465292\n",
      "How likely are you to perform your desirable action 1 when you are in the state region {IsTrafficLightNearby(YES)}?\n",
      "Probability: 0.5098788957029853\n",
      "How likely are you to find yourself in a state where you can fulfill your desire stop_stop_sign by performing the action 1?\n",
      "Probability: 0.06797397379388931\n",
      "How likely are you to perform your desirable action 1 when you are in the state region {IsStopSignNearby(YES)}?\n",
      "Probability: 0.14180919020793759\n",
      "How likely are you to find yourself in a state where you can fulfill your desire stop_zebra by performing the action 1?\n",
      "Probability: 0.34715600731611834\n",
      "How likely are you to perform your desirable action 1 when you are in the state region {IsZebraNearby(YES)}?\n",
      "Probability: 0.3475129764142942\n",
      "How likely are you to find yourself in a state where you can fulfill your desire lane_change by performing the action 8?\n",
      "Probability: 0.05663998081017073\n",
      "How likely are you to perform your desirable action 8 when you are in the state region {LanePosition(CENTER)}?\n",
      "Probability: 0.06558452135476997\n",
      "How likely are you to find yourself in a state where you can fulfill your desire lane_change by performing the action 2?\n",
      "Probability: 0.05663998081017073\n",
      "How likely are you to perform your desirable action 2 when you are in the state region {LanePosition(CENTER)}?\n",
      "Probability: 0.07650563187618724\n",
      "\n",
      "DISCRETIZER 1b \n",
      "How likely are you to find yourself in a state where you can fulfill your desire stop_traffic_light by performing the action 1?\n",
      "Probability: 0.24302119876465167\n",
      "How likely are you to perform your desirable action 1 when you are in the state region {IsTrafficLightNearby(YES)}?\n",
      "Probability: 0.5096641397259444\n",
      "How likely are you to find yourself in a state where you can fulfill your desire stop_stop_sign by performing the action 1?\n",
      "Probability: 0.06797397379388942\n",
      "How likely are you to perform your desirable action 1 when you are in the state region {IsStopSignNearby(YES)}?\n",
      "Probability: 0.1418188027377375\n",
      "How likely are you to find yourself in a state where you can fulfill your desire stop_zebra by performing the action 1?\n",
      "Probability: 0.34715600731611485\n",
      "How likely are you to perform your desirable action 1 when you are in the state region {IsZebraNearby(YES)}?\n",
      "Probability: 0.34735771083576633\n",
      "How likely are you to find yourself in a state where you can fulfill your desire lane_change by performing the action 8?\n",
      "Probability: 0.056639980810170895\n",
      "How likely are you to perform your desirable action 8 when you are in the state region {LanePosition(CENTER)}?\n",
      "Probability: 0.06582502819527197\n",
      "How likely are you to find yourself in a state where you can fulfill your desire lane_change by performing the action 2?\n",
      "Probability: 0.056639980810170895\n",
      "How likely are you to perform your desirable action 2 when you are in the state region {LanePosition(CENTER)}?\n",
      "Probability: 0.07543716524773857\n",
      "\n",
      "DISCRETIZER 1c \n",
      "How likely are you to find yourself in a state where you can fulfill your desire stop_traffic_light by performing the action 1?\n",
      "Probability: 0.24302119876464987\n",
      "How likely are you to perform your desirable action 1 when you are in the state region {IsTrafficLightNearby(YES)}?\n",
      "Probability: 0.5096621445828365\n",
      "How likely are you to find yourself in a state where you can fulfill your desire stop_stop_sign by performing the action 1?\n",
      "Probability: 0.06797397379388939\n",
      "How likely are you to perform your desirable action 1 when you are in the state region {IsStopSignNearby(YES)}?\n",
      "Probability: 0.14181880273773753\n",
      "How likely are you to find yourself in a state where you can fulfill your desire stop_zebra by performing the action 1?\n",
      "Probability: 0.3471560073161118\n",
      "How likely are you to perform your desirable action 1 when you are in the state region {IsZebraNearby(YES)}?\n",
      "Probability: 0.34734123356771585\n",
      "How likely are you to find yourself in a state where you can fulfill your desire lane_change by performing the action 8?\n",
      "Probability: 0.05663998081017103\n",
      "How likely are you to perform your desirable action 8 when you are in the state region {LanePosition(CENTER)}?\n",
      "Probability: 0.06523318697516005\n",
      "How likely are you to find yourself in a state where you can fulfill your desire lane_change by performing the action 2?\n",
      "Probability: 0.05663998081017103\n",
      "How likely are you to perform your desirable action 2 when you are in the state region {LanePosition(CENTER)}?\n",
      "Probability: 0.07582425947262551\n",
      "\n"
     ]
    }
   ],
   "source": [
    "environment = SelfDrivingEnvironment(city='all')\n",
    "discretizer_configs = {\n",
    "    'a': {'obj_discretizer': 'binary', 'vel_discretizer': 'binary' },\n",
    "    'b': {'obj_discretizer': 'multiple', 'vel_discretizer': 'binary'},\n",
    "    'c': {'obj_discretizer': 'multiple', 'vel_discretizer': 'multiple'}\n",
    "    }\n",
    "\n",
    "default_config = {'obj_discretizer': 'multiple', 'vel_discretizer': 'multiple'}\n",
    "\n",
    "for discretizer_id in ['0a','0b','0c','1a','1b','1c']:\n",
    "    config = default_config\n",
    "    for key in discretizer_configs:\n",
    "        if key in discretizer_id:\n",
    "            config = discretizer_configs[key]\n",
    "            break\n",
    "\n",
    "    DiscretizerClass = AVDiscretizer if '0' in discretizer_id else AVDiscretizerD1\n",
    "    discretizer = DiscretizerClass(\n",
    "            environment,\n",
    "            vel_discretization=config['vel_discretizer'],\n",
    "            obj_discretization=config['obj_discretizer'],\n",
    "            id=discretizer_id\n",
    "        ) \n",
    "    nodes_path = f'example/dataset/data/policy_graphs/PG_trainval_Call_D{discretizer_id}_Wall_Tall_nodes.csv'\n",
    "    edges_path = f'example/dataset/data/policy_graphs/PG_trainval_Call_D{discretizer_id}_Wall_Tall_edges.csv'\n",
    "    print(f'DISCRETIZER {discretizer_id} ')\n",
    "    pg = PG.PolicyGraph.from_nodes_and_edges(nodes_path, edges_path, environment, discretizer)\n",
    "\n",
    "    stop_traffic_light = Desire(\"stop_traffic_light\", 1, {Predicate(IsTrafficLightNearby, [IsTrafficLightNearby.YES])})\n",
    "    ii.question4(pg, stop_traffic_light)\n",
    "    ii.question5(pg, stop_traffic_light,1)\n",
    "    stop_stop_sign = Desire(\"stop_stop_sign\", 1, {Predicate(IsStopSignNearby, [IsStopSignNearby.YES])})\n",
    "    ii.question4(pg, stop_stop_sign)\n",
    "    ii.question5(pg, stop_stop_sign,1)\n",
    "    stop_zebra = Desire(\"stop_zebra\", 1, {Predicate(IsZebraNearby, [IsZebraNearby.YES])})\n",
    "    ii.question4(pg, stop_zebra)\n",
    "    ii.question5(pg, stop_zebra,1)\n",
    "    lane_change = Desire(\"lane_change\", 8, {Predicate(LanePosition, [LanePosition.CENTER]) })\n",
    "    ii.question4(pg, lane_change)\n",
    "    ii.question5(pg, lane_change, 8)\n",
    "    lane_change = Desire(\"lane_change\", 2, {Predicate(LanePosition, [LanePosition.CENTER]) })\n",
    "    ii.question4(pg, lane_change)\n",
    "    ii.question5(pg, lane_change, 2)\n",
    "\n",
    "\n",
    "    \n",
    "    print()"
   ]
  }
 ],
 "metadata": {
  "kernelspec": {
   "display_name": "Python 3",
   "language": "python",
   "name": "python3"
  },
  "language_info": {
   "codemirror_mode": {
    "name": "ipython",
    "version": 3
   },
   "file_extension": ".py",
   "mimetype": "text/x-python",
   "name": "python",
   "nbconvert_exporter": "python",
   "pygments_lexer": "ipython3",
   "version": "3.8.10"
  }
 },
 "nbformat": 4,
 "nbformat_minor": 2
}
