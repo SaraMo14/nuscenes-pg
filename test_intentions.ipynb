{
 "cells": [
  {
   "cell_type": "code",
   "execution_count": 1,
   "metadata": {},
   "outputs": [],
   "source": [
    "from example.discretizer.utils import IsTrafficLightNearby, IsStopSignNearby, IsZebraNearby, LanePosition, FrontLeftObjects, FrontRightObjects, PedestrianNearby, BlockProgress\n",
    "from pgeon.intention_introspector import IntentionIntrospector\n",
    "from pgeon.desire import Desire\n",
    "from pgeon.discretizer import Predicate\n",
    "from example.discretizer.discretizer_d0 import AVDiscretizer\n",
    "from example.discretizer.discretizer_d1 import AVDiscretizerD1\n",
    "import pgeon.policy_graph as PG\n",
    "from example.environment import SelfDrivingEnvironment\n",
    "import numpy as np\n",
    "import matplotlib.pyplot as plt\n",
    "from typing import Set, Dict, Tuple\n"
   ]
  },
  {
   "cell_type": "markdown",
   "metadata": {},
   "source": [
    "## Common initialization (valid for each discretiser)"
   ]
  },
  {
   "cell_type": "code",
   "execution_count": 2,
   "metadata": {},
   "outputs": [],
   "source": [
    "environment = SelfDrivingEnvironment(city='all')\n",
    "discretizer_configs = {\n",
    "    'a': {'obj_discretizer': 'binary', 'vel_discretizer': 'binary' },\n",
    "    'b': {'obj_discretizer': 'multiple', 'vel_discretizer': 'binary'},\n",
    "    'c': {'obj_discretizer': 'multiple', 'vel_discretizer': 'multiple'}\n",
    "    }\n",
    "\n",
    "default_config = {'obj_discretizer': 'multiple', 'vel_discretizer': 'multiple'}\n",
    "commitment_threshold = 0.5"
   ]
  },
  {
   "cell_type": "code",
   "execution_count": 3,
   "metadata": {},
   "outputs": [],
   "source": [
    "def roc_curve(discretisers_info: Dict[str, Tuple[PG.PolicyGraph, Set[Desire]]]):\n",
    "    \n",
    "    plt.figure(figsize=(10, 6))\n",
    "\n",
    "    thresholds = np.arange(0, 1, 0.1)\n",
    "\n",
    "    for discretizer_id, (pg, desires) in discretisers_info.items():\n",
    "        intention_probabilities = []\n",
    "        expected_probabilities = []\n",
    "\n",
    "        for threshold in thresholds:\n",
    "            print(threshold)\n",
    "            ii = IntentionIntrospector(desires, pg)\n",
    "\n",
    "            intention_prob, expected_prob=ii.get_intention_metrics(commitment_threshold=threshold,desire=any)\n",
    "            intention_probabilities.append(intention_prob)\n",
    "            expected_probabilities.append(expected_prob)\n",
    "\n",
    "        plt.plot(intention_probabilities, expected_probabilities, label=f'Discretizer {discretizer_id}')\n",
    "\n",
    "        \n",
    "    plt.xlabel('Intention Probability for ANY desire')\n",
    "    plt.ylabel('Expected Probability')\n",
    "    plt.title('Intention Probability vs Expected Probability for Different Discretizers')\n",
    "    plt.legend()\n",
    "    plt.grid(True)\n",
    "    plt.show()\n"
   ]
  },
  {
   "cell_type": "code",
   "execution_count": 4,
   "metadata": {},
   "outputs": [],
   "source": [
    "def show_metrics(metrics_data, discretizer_id, type='Desire'):\n",
    "    \"\"\"\n",
    "    Function to show bar plots with metrics for each desire. The metrics can be \n",
    "    desire or intention metrics, based on the value of the parameter 'type' (Desire or Intention).\n",
    "    \"\"\"\n",
    "\n",
    "    desires = list(metrics_data.keys())\n",
    "\n",
    "    fig, ax = plt.subplots(figsize=(20, 10))\n",
    "\n",
    "    labels = []\n",
    "    val1 = []\n",
    "    val2 = []\n",
    "\n",
    "    for desire in desires:\n",
    "        if desire == 'any':\n",
    "            val1.append(metrics_data[desire][0])\n",
    "            val2.append(metrics_data[desire][1])\n",
    "        else:\n",
    "            val1.append(metrics_data[desire][0])\n",
    "            val2.append(metrics_data[desire][1])\n",
    "        labels.append(f\"{desire}\")\n",
    "\n",
    "    x = np.arange(len(desires))\n",
    "    width = 0.35\n",
    "\n",
    "    rects1 = ax.bar(x - width/2, val1, width, label=f'{type} Probability')\n",
    "    metric_label = 'Expected Action Prob.' if type == 'Desire' else 'Expected Intention Prob.'\n",
    "    rects2 = ax.bar(x + width/2, val2, width, label=metric_label)\n",
    "\n",
    "    ax.set_xlabel(f'Desires')\n",
    "    ax.set_ylabel(f'{type}s Metrics')\n",
    "    ax.set_title(f'Discretizer {discretizer_id}')\n",
    "    ax.set_xticks(x)\n",
    "    ax.set_xticklabels(labels)\n",
    "        \n",
    "    ax.legend()\n",
    "    for rect in rects1:\n",
    "        height = rect.get_height()\n",
    "        ax.text(rect.get_x() + rect.get_width() / 2, height, f'{height:.3f}', ha='center', va='bottom')\n",
    "\n",
    "    for rect in rects2:\n",
    "        height = rect.get_height()\n",
    "        ax.text(rect.get_x() + rect.get_width() / 2, height, f'{height:.3f}', ha='center', va='bottom')\n",
    "\n",
    "    plt.show()  "
   ]
  },
  {
   "cell_type": "markdown",
   "metadata": {},
   "source": [
    "Desires valid for all discretisers"
   ]
  },
  {
   "cell_type": "code",
   "execution_count": 5,
   "metadata": {},
   "outputs": [],
   "source": [
    "any = Desire(\"any\", None, set())\n",
    "stop_traffic_light = Desire(\"stop_traffic_light\", [1], {Predicate(IsTrafficLightNearby, [IsTrafficLightNearby.YES])}) #NOTE: traffic light color can be also green or yellow\n",
    "stop_stop_sign = Desire(\"stop_stop_sign\", [1], {Predicate(IsStopSignNearby, [IsStopSignNearby.YES])})\n",
    "stop_zebra = Desire(\"stop_zebra\", [1], {Predicate(IsZebraNearby, [IsZebraNearby.YES])})\n",
    "lane_change = Desire(\"lane_change\", [7,8, 2, 3 ], {Predicate(LanePosition, [LanePosition.CENTER]) }) #GAS_TURN_LEFT\n",
    "turn_at_intersection = Desire(\"turn_at_intersection\", [7,8, 2, 3 ], {Predicate(BlockProgress, [BlockProgress.INTERSECTION])})\n"
   ]
  },
  {
   "cell_type": "markdown",
   "metadata": {},
   "source": [
    "## Discretisers 0a, 0b, 0c"
   ]
  },
  {
   "cell_type": "markdown",
   "metadata": {},
   "source": [
    "#### Compute Desires and Intention Metrics\n"
   ]
  },
  {
   "cell_type": "code",
   "execution_count": 6,
   "metadata": {},
   "outputs": [
    {
     "name": "stdout",
     "output_type": "stream",
     "text": [
      "DISCRETIZER 0a \n",
      "{'left_obstacle_avoidance': (0.7732662010719505, 0.08803686305039558), 'right_obstacle_avoidance+': (0.8144117806290943, 0.07940244492662135), 'lane_change': (0.060364896323967306, 0.32632512854799267), 'stop_stop_sign': (0.07341237615721945, 0.15221294371929228), 'stop_traffic_light': (0.22083265659682744, 0.4989341484853402), 'right_obstacle_avoidance': (0.8144117806290943, 0.07940244492662135), 'stop_zebra': (0.34199556060852143, 0.35371643694873045), 'left_obstacle_avoidance+': (0.7732662010719505, 0.08803686305039558)}\n",
      "{'left_obstacle_avoidance': (0.08673055059282118, 0.6571273511705642), 'right_obstacle_avoidance+': (0.07536137729413676, 0.6370146563535429), 'lane_change': (0.02062692869904174, 0.69633666481345), 'stop_stop_sign': (0.011585728980564128, 0.9010345168410996), 'stop_traffic_light': (0.11239239889556603, 0.9788627830033394), 'right_obstacle_avoidance': (0.07536137729413676, 0.6370146563535429), 'stop_zebra': (0.12392398895566022, 0.971085239392309), 'left_obstacle_avoidance+': (0.08673055059282118, 0.6571273511705642), 'any': (0.30826701315575766, 0.7938792244760013)}\n",
      "\n"
     ]
    }
   ],
   "source": [
    "intentions_data = {}\n",
    "desires_data = {}\n",
    "for discretizer_id in ['0a','0b' ,'0c']:#'1a','1b','1c']: #\n",
    "    config = default_config\n",
    "    for key in discretizer_configs:\n",
    "        if key in discretizer_id:\n",
    "            config = discretizer_configs[key]\n",
    "            break\n",
    "\n",
    "    discretizer = AVDiscretizer(\n",
    "            environment,\n",
    "            vel_discretization=config['vel_discretizer'],\n",
    "            obj_discretization=config['obj_discretizer'],\n",
    "            id=discretizer_id\n",
    "        ) \n",
    "    nodes_path = f'example/dataset/data/policy_graphs/PG_trainval_Call_D{discretizer_id}_Wall_Tall_nodes.csv'\n",
    "    edges_path = f'example/dataset/data/policy_graphs/PG_trainval_Call_D{discretizer_id}_Wall_Tall_edges.csv'\n",
    "    print(f'DISCRETIZER {discretizer_id} ')\n",
    "    pg = PG.PolicyGraph.from_nodes_and_edges(nodes_path, edges_path, environment, discretizer)\n",
    "    \n",
    "    #obstacle_avoidance_l = Desire(\"left_obstacle_avoidance\", [3, 7], {Predicate(FrontLeftObjects, [FrontLeftObjects(1, discretization=config['obj_discretizer'])]) }) #TODO:\n",
    "    #obstacle_avoidance_r = Desire(\"right_obstacle_avoidance\", [2, 8], {Predicate(FrontRightObjects, [FrontRightObjects(1,discretization=config['obj_discretizer'])])})\n",
    "    obstacle_avoidance_l = Desire(\"left_obstacle_avoidance\", [3, 7], {Predicate(FrontLeftObjects, [FrontLeftObjects(1, discretization=config['obj_discretizer'])]) })\n",
    "    obstacle_avoidance_l_plus = Desire(\"left_obstacle_avoidance+\", [3, 7], {Predicate(FrontLeftObjects, [FrontLeftObjects(4, discretization=config['obj_discretizer'])]) })\n",
    "    obstacle_avoidance_r = Desire(\"right_obstacle_avoidance\", [2, 8], {Predicate(FrontRightObjects, [FrontRightObjects(1,discretization=config['obj_discretizer'])])})\n",
    "    obstacle_avoidance_r_plus = Desire(\"right_obstacle_avoidance+\", [2, 8], {Predicate(FrontRightObjects, [FrontRightObjects(4,discretization=config['obj_discretizer'])])}) \n",
    "\n",
    "    ii = IntentionIntrospector({turn_at_intersection ,stop_stop_sign, stop_traffic_light, stop_zebra, obstacle_avoidance_l, obstacle_avoidance_l_plus, obstacle_avoidance_r, obstacle_avoidance_r_plus, lane_change}, pg)\n",
    "\n",
    "    desires_data[discretizer_id] = ii.find_desires() \n",
    "    print(desires_data[discretizer_id])\n",
    "    intentions_data[discretizer_id] = ii.find_intentions( commitment_threshold) #{desire.name: [self.get_intention_metrics(commitment_threshold, desire)] for desire in self.desires}\n",
    "    intentions_data[discretizer_id]['any']=ii.get_intention_metrics(commitment_threshold,any)\n",
    "    print(intentions_data[discretizer_id])\n",
    "    print()"
   ]
  },
  {
   "cell_type": "markdown",
   "metadata": {},
   "source": [
    "Questions"
   ]
  },
  {
   "cell_type": "code",
   "execution_count": 14,
   "metadata": {},
   "outputs": [],
   "source": [
    "state = pg.discretizer.str_to_state(\"(LanePosition(RIGHT), NextIntersection(NONE), Velocity(MOVING), Rotation(FORWARD), IsStopSignNearby(NO), IsZebraNearby(NO), IsTrafficLightNearby(NO), FrontRightObjects(YES), FrontLeftObjects(YES))\")"
   ]
  },
  {
   "cell_type": "code",
   "execution_count": 62,
   "metadata": {},
   "outputs": [],
   "source": [
    "def how(pg, desire:Desire, state: Set[Predicate]):\n",
    "        desire_nodes = [(node, ii.check_desire(node, desire.clause, desire.actions)) for node in pg.nodes if ii.check_desire(node, desire.clause, desire.actions) is not None]\n",
    "        for node, _ in desire_nodes:\n",
    "            if state == node:\n",
    "                return [pg.discretizer.get_action_from_id(action) for action in desire.actions ] \n",
    " \n",
    "        intention_vals = [(successor, ii.intention[successor][desire]) for successor in pg.successors(state) if successor in ii.intention and desire in ii.intention[successor] ]\n",
    "        max_successor = max(intention_vals, key=lambda x: x[1])[0]\n",
    "        actions_id = list(pg.get_edge_data(state, max_successor).keys())\n",
    "        actions = [pg.discretizer.get_action_from_id(action) for action in actions_id]\n",
    "\n",
    "        #action = edge_data.get('action')  #NOTE: how to decide which action if there are more tha one?\n",
    "        subsequent_actions = how(pg, desire, max_successor)\n",
    "\n",
    "        return [actions, max_successor] + [subsequent_actions] if subsequent_actions else [actions]\n",
    "\n"
   ]
  },
  {
   "cell_type": "code",
   "execution_count": 53,
   "metadata": {},
   "outputs": [
    {
     "data": {
      "text/plain": [
       "{Desire[left_obstacle_avoidance]=<{FrontLeftObjects(YES)}, [3, 7]>: 0.01232134056185313,\n",
       " Desire[right_obstacle_avoidance+]=<{FrontRightObjects(YES)}, [2, 8]>: 0.015278462296697881,\n",
       " Desire[right_obstacle_avoidance]=<{FrontRightObjects(YES)}, [2, 8]>: 0.015278462296697881,\n",
       " Desire[left_obstacle_avoidance+]=<{FrontLeftObjects(YES)}, [3, 7]>: 0.01232134056185313}"
      ]
     },
     "execution_count": 53,
     "metadata": {},
     "output_type": "execute_result"
    }
   ],
   "source": [
    "ii.intention[state] #for successor in pg.successors(state)]"
   ]
  },
  {
   "cell_type": "code",
   "execution_count": 64,
   "metadata": {},
   "outputs": [
    {
     "data": {
      "text/plain": [
       "[<Action.TURN_RIGHT: 3>, <Action.GAS_TURN_RIGHT: 7>]"
      ]
     },
     "execution_count": 64,
     "metadata": {},
     "output_type": "execute_result"
    }
   ],
   "source": [
    "how(pg, obstacle_avoidance_l_plus, state)"
   ]
  },
  {
   "cell_type": "markdown",
   "metadata": {},
   "source": [
    "### Bar Plot"
   ]
  },
  {
   "cell_type": "markdown",
   "metadata": {},
   "source": [
    "#### Desires"
   ]
  },
  {
   "cell_type": "code",
   "execution_count": null,
   "metadata": {},
   "outputs": [],
   "source": [
    "for discretizer in desires_data.keys():\n",
    "    show_metrics(desires_data[discretizer], discretizer, type = 'Desire')"
   ]
  },
  {
   "cell_type": "markdown",
   "metadata": {},
   "source": [
    "#### Intentions"
   ]
  },
  {
   "cell_type": "code",
   "execution_count": null,
   "metadata": {},
   "outputs": [],
   "source": [
    "for discretizer in intentions_data.keys():\n",
    "    show_metrics(intentions_data[discretizer], discretizer, type = 'Intention')"
   ]
  },
  {
   "cell_type": "markdown",
   "metadata": {},
   "source": [
    "## Discretisers 1a, 1b, 1c"
   ]
  },
  {
   "cell_type": "code",
   "execution_count": 9,
   "metadata": {},
   "outputs": [
    {
     "name": "stdout",
     "output_type": "stream",
     "text": [
      "DISCRETIZER 1a \n",
      "{'stop_zebra': (0.14332403825972237, 0.4117638877707427), 'lane_change': (0.056639980810170604, 0.2874192027743249), 'stop_stop_sign': (0.06797397379388923, 0.14180919020793772), 'left_obstacle_avoidance+': (0.7636352733051482, 0.08130968046647177), 'right_obstacle_avoidance+': (0.7909807801865011, 0.07490762807280534), 'right_obstacle_avoidance': (0.7909807801865011, 0.07490762807280534), 'turn_at_intersection': (0.259092680879134, 0.26657603081133846), 'left_obstacle_avoidance': (0.7636352733051482, 0.08130968046647177), 'stop_traffic_light': (0.24302119876465472, 0.5098788957029813)}\n",
      "{'stop_zebra': (0.06014812149560732, 0.9751640972648824), 'lane_change': (0.013852658091211658, 0.805881636401117), 'stop_stop_sign': (0.0098947557794369, 0.8858710470206422), 'left_obstacle_avoidance+': (0.06401607148211448, 0.7334800237493498), 'right_obstacle_avoidance+': (0.05972834397769182, 0.7146626528269712), 'right_obstacle_avoidance': (0.05972834397769182, 0.7146626528269712), 'turn_at_intersection': (0.08131690204191777, 0.7484228737486666), 'left_obstacle_avoidance': (0.06401607148211448, 0.7334800237493498), 'stop_traffic_light': (0.12644298521783454, 0.9770982051223298), 'any': (0.28442925249617707, 0.8507170161973195)}\n",
      "\n",
      "DISCRETIZER 1b \n",
      "{'lane_change': (0.056639980810170604, 0.2851610456902084), 'left_obstacle_avoidance': (0.3421186771011364, 0.08231120407473251), 'stop_stop_sign': (0.06797397379388924, 0.14181880273773784), 'stop_zebra': (0.10995172558543971, 0.3836239354010747), 'right_obstacle_avoidance': (0.39051302809510957, 0.07328666843343525), 'right_obstacle_avoidance+': (0.4004677520913916, 0.07607444106124521), 'turn_at_intersection': (0.25909268087913406, 0.2660469786626131), 'left_obstacle_avoidance+': (0.42151659620401183, 0.08003977074910246), 'stop_traffic_light': (0.24302119876465475, 0.5096641397259378)}\n",
      "{'lane_change': (0.013942610416479265, 0.8596006144393246), 'left_obstacle_avoidance': (0.027795268507690922, 0.7770366499084664), 'stop_stop_sign': (0.010014692213127046, 0.884740197025304), 'stop_zebra': (0.04281730682738149, 0.9759427818937761), 'right_obstacle_avoidance': (0.02737549098977542, 0.7666610813876913), 'right_obstacle_avoidance+': (0.02866480765194447, 0.7750307041363023), 'turn_at_intersection': (0.07564990555005846, 0.783324112954587), 'left_obstacle_avoidance+': (0.03154328206050793, 0.801074351028524), 'stop_traffic_light': (0.1259932235914965, 0.9791918283665364), 'any': (0.2745944649335852, 0.8774011049636967)}\n",
      "\n",
      "DISCRETIZER 1c \n",
      "{'right_obstacle_avoidance': (0.39051302809510957, 0.07323658920381661), 'lane_change': (0.05663998081017062, 0.28424093532911565), 'left_obstacle_avoidance+': (0.4215165962040119, 0.07993109961018019), 'right_obstacle_avoidance+': (0.40046775209139157, 0.07599289873479477), 'stop_stop_sign': (0.06797397379388923, 0.14181880273773786), 'turn_at_intersection': (0.25909268087913406, 0.26537960518376297), 'stop_traffic_light': (0.24302119876465472, 0.5096621445828261), 'left_obstacle_avoidance': (0.3421186771011364, 0.08186805174868984), 'stop_zebra': (0.10995172558543971, 0.383615413448525)}\n",
      "{'right_obstacle_avoidance': (0.026955713471859915, 0.8066508789109063), 'lane_change': (0.013642769332253907, 0.8975405546834119), 'left_obstacle_avoidance+': (0.03055380648256424, 0.8364153061527938), 'right_obstacle_avoidance+': (0.02683577703816977, 0.826646781447722), 'stop_stop_sign': (0.010014692213127044, 0.8847401970253042), 'turn_at_intersection': (0.07046265479295973, 0.8238085972382008), 'stop_traffic_light': (0.1259932235914965, 0.9791918283665365), 'left_obstacle_avoidance': (0.025816317351803543, 0.8218357429879718), 'stop_zebra': (0.042817306827381496, 0.9759427818937759), 'any': (0.26772810410482445, 0.9002175538902529)}\n",
      "\n"
     ]
    }
   ],
   "source": [
    "intentions_data = {}\n",
    "desires_data = {}\n",
    "for discretizer_id in ['1a','1b','1c']: #\n",
    "    config = default_config\n",
    "    for key in discretizer_configs:\n",
    "        if key in discretizer_id:\n",
    "            config = discretizer_configs[key]\n",
    "            break\n",
    "\n",
    "    discretizer = AVDiscretizerD1(\n",
    "            environment,\n",
    "            vel_discretization=config['vel_discretizer'],\n",
    "            obj_discretization=config['obj_discretizer'],\n",
    "            id=discretizer_id\n",
    "        ) \n",
    "    nodes_path = f'example/dataset/data/policy_graphs/PG_trainval_Call_D{discretizer_id}_Wall_Tall_nodes.csv'\n",
    "    edges_path = f'example/dataset/data/policy_graphs/PG_trainval_Call_D{discretizer_id}_Wall_Tall_edges.csv'\n",
    "    print(f'DISCRETIZER {discretizer_id} ')\n",
    "    pg = PG.PolicyGraph.from_nodes_and_edges(nodes_path, edges_path, environment, discretizer)\n",
    "    \n",
    "    obstacle_avoidance_l = Desire(\"left_obstacle_avoidance\", [3, 7], {Predicate(FrontLeftObjects, [FrontLeftObjects(1, discretization=config['obj_discretizer'])]) })\n",
    "    obstacle_avoidance_l_plus = Desire(\"left_obstacle_avoidance+\", [3, 7], {Predicate(FrontLeftObjects, [FrontLeftObjects(4, discretization=config['obj_discretizer'])]) })\n",
    "    obstacle_avoidance_r = Desire(\"right_obstacle_avoidance\", [2, 8], {Predicate(FrontRightObjects, [FrontRightObjects(1,discretization=config['obj_discretizer'])])})\n",
    "    obstacle_avoidance_r_plus = Desire(\"right_obstacle_avoidance+\", [2, 8], {Predicate(FrontRightObjects, [FrontRightObjects(4,discretization=config['obj_discretizer'])])}) \n",
    "\n",
    "    #if '1' in discretizer_id:\n",
    "    if 'a' in discretizer_id:\n",
    "            stop_zebra = Desire(\"stop_zebra\", [1], {Predicate(IsZebraNearby, [IsZebraNearby.YES]), Predicate(PedestrianNearby, [PedestrianNearby('YES')])})\n",
    "    else:\n",
    "        stop_zebra = Desire(\"stop_zebra\", [1], {Predicate(IsZebraNearby, [IsZebraNearby.YES]), Predicate(PedestrianNearby, [PedestrianNearby('1-3')])}) #TODO:\n",
    "    \n",
    "    ii = IntentionIntrospector({turn_at_intersection ,stop_stop_sign, stop_traffic_light, stop_zebra, obstacle_avoidance_l, obstacle_avoidance_l_plus, obstacle_avoidance_r, obstacle_avoidance_r_plus, lane_change}, pg)\n",
    "\n",
    "    desires_data[discretizer_id] = ii.find_desires() \n",
    "    print(desires_data[discretizer_id])\n",
    "    intentions_data[discretizer_id] = ii.find_intentions( commitment_threshold) #{desire.name: [self.get_intention_metrics(commitment_threshold, desire)] for desire in self.desires}\n",
    "    intentions_data[discretizer_id]['any']=ii.get_intention_metrics(commitment_threshold,any)\n",
    "    print(intentions_data[discretizer_id])\n",
    "    print()"
   ]
  },
  {
   "cell_type": "markdown",
   "metadata": {},
   "source": [
    "### Bar Plots"
   ]
  },
  {
   "cell_type": "markdown",
   "metadata": {},
   "source": [
    "Desires"
   ]
  },
  {
   "cell_type": "code",
   "execution_count": null,
   "metadata": {},
   "outputs": [],
   "source": [
    "for discretizer in desires_data.keys():\n",
    "    show_metrics(desires_data[discretizer], discretizer, type = 'Desire')"
   ]
  },
  {
   "cell_type": "markdown",
   "metadata": {},
   "source": [
    "Intentions"
   ]
  },
  {
   "cell_type": "code",
   "execution_count": null,
   "metadata": {},
   "outputs": [],
   "source": [
    "for discretizer in intentions_data.keys():\n",
    "    show_metrics(intentions_data[discretizer], discretizer, type = 'Intention')"
   ]
  },
  {
   "cell_type": "markdown",
   "metadata": {},
   "source": [
    "## ROC Curve\n"
   ]
  },
  {
   "cell_type": "markdown",
   "metadata": {},
   "source": [
    "Choose the discretiser with higher AIC, that is, the discretiser where the interpretability vs reliability trade-off is better"
   ]
  },
  {
   "cell_type": "markdown",
   "metadata": {},
   "source": [
    "- If there is no commitment threshold in which the two metrics are decently high, it becomes apparent that the desires do not capture the agent’s behaviour. This can be either because the agent did not train correctly (making the hypothesised desires something it cannot reach) or because the agent is targeting a different set of desires. Our case is the latter. \n",
    "\n",
    "- The probability of manifesting intentions is low. the behaviour is not interpretable with these desires, and new ones should be considered.\n",
    "\n",
    "\n",
    "After seeing seeing this, we added new desires related to OBSTACLE AVOIDANCE, which improved the AUC  for discretisers D0b and D0c."
   ]
  },
  {
   "cell_type": "code",
   "execution_count": null,
   "metadata": {},
   "outputs": [],
   "source": [
    "discretizers_info = {}\n",
    "for discretizer_id in ['0a','0b','0c','1a','1b','1c']:\n",
    "    config = default_config\n",
    "    for key in discretizer_configs:\n",
    "        if key in discretizer_id:\n",
    "            config = discretizer_configs[key]\n",
    "            break\n",
    "\n",
    "    DiscretizerClass = AVDiscretizer if '0' in discretizer_id else AVDiscretizerD1\n",
    "    discretizer = DiscretizerClass(\n",
    "            environment,\n",
    "            vel_discretization=config['vel_discretizer'],\n",
    "            obj_discretization=config['obj_discretizer'],\n",
    "            id=discretizer_id\n",
    "            ) \n",
    "    nodes_path = f'example/dataset/data/policy_graphs/PG_trainval_Call_D{discretizer_id}_Wall_Tall_nodes.csv'\n",
    "    edges_path = f'example/dataset/data/policy_graphs/PG_trainval_Call_D{discretizer_id}_Wall_Tall_edges.csv'\n",
    "    pg = PG.PolicyGraph.from_nodes_and_edges(nodes_path, edges_path, environment, discretizer)\n",
    "    \n",
    "    \n",
    "    obstacle_avoidance_l = Desire(\"left_obstacle_avoidance\", [3, 7], {Predicate(FrontLeftObjects, [FrontLeftObjects(1, discretization=config['obj_discretizer'])]) })\n",
    "    obstacle_avoidance_r = Desire(\"right_obstacle_avoidance\", [2, 8], {Predicate(FrontRightObjects, [FrontRightObjects(1,discretization=config['obj_discretizer'])])})\n",
    "    desires = [stop_stop_sign, stop_traffic_light, stop_zebra, lane_change, obstacle_avoidance_l, obstacle_avoidance_r]\n",
    "\n",
    "    if 'a' not in discretizer_id:\n",
    "        desires.append(Desire(\"left_obstacle_avoidance+\", [3, 7], {Predicate(FrontLeftObjects, [FrontLeftObjects(4, discretization=config['obj_discretizer'])]) }) )\n",
    "        desires.append(Desire(\"right_obstacle_avoidance+\", [2, 8], {Predicate(FrontRightObjects, [FrontRightObjects(4,discretization=config['obj_discretizer'])])})  )\n",
    "\n",
    "    if '1' in discretizer_id:\n",
    "        desires.append(turn_at_intersection) \n",
    "    discretizers_info[discretizer_id] = (pg, desires)\n"
   ]
  },
  {
   "cell_type": "code",
   "execution_count": null,
   "metadata": {},
   "outputs": [],
   "source": [
    "roc_curve(discretizers_info)"
   ]
  }
 ],
 "metadata": {
  "kernelspec": {
   "display_name": "Python 3",
   "language": "python",
   "name": "python3"
  },
  "language_info": {
   "codemirror_mode": {
    "name": "ipython",
    "version": 3
   },
   "file_extension": ".py",
   "mimetype": "text/x-python",
   "name": "python",
   "nbconvert_exporter": "python",
   "pygments_lexer": "ipython3",
   "version": "3.8.10"
  }
 },
 "nbformat": 4,
 "nbformat_minor": 2
}
